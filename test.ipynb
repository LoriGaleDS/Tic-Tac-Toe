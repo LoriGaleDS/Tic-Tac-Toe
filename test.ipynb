{
 "cells": [
  {
   "cell_type": "code",
   "execution_count": 56,
   "metadata": {},
   "outputs": [],
   "source": [
    "from tictactoe import initial_state\n",
    "from copy import deepcopy\n"
   ]
  },
  {
   "cell_type": "code",
   "execution_count": 2,
   "metadata": {},
   "outputs": [
    {
     "name": "stdout",
     "output_type": "stream",
     "text": [
      "[[None, None, None], [None, None, None], [None, None, None]]\n"
     ]
    }
   ],
   "source": [
    "start = initial_state()\n",
    "print(start)"
   ]
  },
  {
   "cell_type": "code",
   "execution_count": 19,
   "metadata": {},
   "outputs": [],
   "source": [
    "# Players\n",
    "X = \"X\"\n",
    "O = \"O\"\n",
    "EMPTY = None"
   ]
  },
  {
   "cell_type": "code",
   "execution_count": 30,
   "metadata": {},
   "outputs": [],
   "source": [
    "def player(board): \n",
    "    count = 0\n",
    "    for row in board:\n",
    "        for elem in row:\n",
    "            if elem != EMPTY:\n",
    "                count += 1\n",
    "    if count % 2 == 0:\n",
    "        return X\n",
    "    else: \n",
    "        return O\n",
    "\n",
    "\n"
   ]
  },
  {
   "cell_type": "code",
   "execution_count": 61,
   "metadata": {},
   "outputs": [
    {
     "name": "stdout",
     "output_type": "stream",
     "text": [
      "X\n"
     ]
    }
   ],
   "source": [
    "board1 = [[None, None, None], [None, \"X\", \"O\"], [None, None, None]]\n",
    "moove1 = (1,2)\n",
    "\n",
    "play1 = player(board1)\n",
    "print(play1)"
   ]
  },
  {
   "cell_type": "code",
   "execution_count": 57,
   "metadata": {},
   "outputs": [],
   "source": [
    "def actions(board):\n",
    "    \"\"\"\n",
    "    Returns set of all possible actions (i, j) available on the board.\n",
    "    \"\"\"\n",
    "    possible_actions = set()\n",
    "    for i in range(len(board)):\n",
    "        for j in range(len(board[i])):\n",
    "            if board[i][j] not in (O,X):\n",
    "                possible_actions.add((i,j))\n",
    "    return(possible_actions)\n",
    "\n",
    "\n"
   ]
  },
  {
   "cell_type": "code",
   "execution_count": 58,
   "metadata": {},
   "outputs": [],
   "source": [
    "def action_is_valid(board,action):\n",
    "    row = action[0]\n",
    "    col = action[1]\n",
    "    if board[row][col] not in (X,O):\n",
    "        return True\n",
    "    else: return False"
   ]
  },
  {
   "cell_type": "code",
   "execution_count": 59,
   "metadata": {},
   "outputs": [],
   "source": [
    "def result(board, action):\n",
    "    \"\"\"\n",
    "    Returns the board that results from making move (i, j) on the board.\n",
    "    \"\"\"\n",
    "    new_board = deepcopy(board)\n",
    "    row = action[0]\n",
    "    col = action[1]\n",
    "    if action_is_valid(board, action):\n",
    "        new_board[row][col] = player(board)\n",
    "        return new_board\n",
    "    else: raise Exception(\"The move is not valid\")"
   ]
  },
  {
   "cell_type": "code",
   "execution_count": 62,
   "metadata": {},
   "outputs": [
    {
     "ename": "Exception",
     "evalue": "The move is not valid",
     "output_type": "error",
     "traceback": [
      "\u001b[1;31m---------------------------------------------------------------------------\u001b[0m",
      "\u001b[1;31mException\u001b[0m                                 Traceback (most recent call last)",
      "Cell \u001b[1;32mIn[62], line 1\u001b[0m\n\u001b[1;32m----> 1\u001b[0m board_results \u001b[38;5;241m=\u001b[39m \u001b[43mresult\u001b[49m\u001b[43m(\u001b[49m\u001b[43mboard1\u001b[49m\u001b[43m,\u001b[49m\u001b[43mmoove1\u001b[49m\u001b[43m)\u001b[49m\n\u001b[0;32m      2\u001b[0m \u001b[38;5;28mprint\u001b[39m(\u001b[38;5;124mf\u001b[39m\u001b[38;5;124m\"\u001b[39m\u001b[38;5;124mstarting board: \u001b[39m\u001b[38;5;132;01m{\u001b[39;00mboard1\u001b[38;5;132;01m}\u001b[39;00m\u001b[38;5;124m\"\u001b[39m)\n\u001b[0;32m      3\u001b[0m \u001b[38;5;28mprint\u001b[39m(\u001b[38;5;124mf\u001b[39m\u001b[38;5;124m\"\u001b[39m\u001b[38;5;124mmoove: \u001b[39m\u001b[38;5;132;01m{\u001b[39;00mmoove1\u001b[38;5;132;01m}\u001b[39;00m\u001b[38;5;124m\"\u001b[39m)\n",
      "Cell \u001b[1;32mIn[59], line 11\u001b[0m, in \u001b[0;36mresult\u001b[1;34m(board, action)\u001b[0m\n\u001b[0;32m      9\u001b[0m     new_board[row][col] \u001b[38;5;241m=\u001b[39m player(board)\n\u001b[0;32m     10\u001b[0m     \u001b[38;5;28;01mreturn\u001b[39;00m new_board\n\u001b[1;32m---> 11\u001b[0m \u001b[38;5;28;01melse\u001b[39;00m: \u001b[38;5;28;01mraise\u001b[39;00m \u001b[38;5;167;01mException\u001b[39;00m(\u001b[38;5;124m\"\u001b[39m\u001b[38;5;124mThe move is not valid\u001b[39m\u001b[38;5;124m\"\u001b[39m)\n",
      "\u001b[1;31mException\u001b[0m: The move is not valid"
     ]
    }
   ],
   "source": [
    "board_results = result(board1,moove1)\n",
    "print(f\"starting board: {board1}\")\n",
    "print(f\"moove: {moove1}\")\n",
    "print(f\"new_board:{board_results}\")"
   ]
  }
 ],
 "metadata": {
  "kernelspec": {
   "display_name": "Python 3",
   "language": "python",
   "name": "python3"
  },
  "language_info": {
   "codemirror_mode": {
    "name": "ipython",
    "version": 3
   },
   "file_extension": ".py",
   "mimetype": "text/x-python",
   "name": "python",
   "nbconvert_exporter": "python",
   "pygments_lexer": "ipython3",
   "version": "3.12.2"
  }
 },
 "nbformat": 4,
 "nbformat_minor": 2
}
