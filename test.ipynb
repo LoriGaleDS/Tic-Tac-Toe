{
 "cells": [
  {
   "cell_type": "code",
   "execution_count": 28,
   "metadata": {},
   "outputs": [],
   "source": [
    "from tictactoe import initial_state\n",
    "from copy import deepcopy\n",
    "import math\n"
   ]
  },
  {
   "cell_type": "code",
   "execution_count": 29,
   "metadata": {},
   "outputs": [
    {
     "name": "stdout",
     "output_type": "stream",
     "text": [
      "[[None, None, None], [None, None, None], [None, None, None]]\n"
     ]
    }
   ],
   "source": [
    "start = initial_state()\n",
    "print(start)"
   ]
  },
  {
   "cell_type": "code",
   "execution_count": 30,
   "metadata": {},
   "outputs": [],
   "source": [
    "# Players\n",
    "X = \"X\"\n",
    "O = \"O\"\n",
    "EMPTY = None"
   ]
  },
  {
   "cell_type": "code",
   "execution_count": 31,
   "metadata": {},
   "outputs": [],
   "source": [
    "def player(board): \n",
    "    count = 0\n",
    "    for row in board:\n",
    "        for elem in row:\n",
    "            if elem != EMPTY:\n",
    "                count += 1\n",
    "    if count % 2 == 0:\n",
    "        return X\n",
    "    else: \n",
    "        return O\n",
    "\n",
    "\n"
   ]
  },
  {
   "cell_type": "code",
   "execution_count": 32,
   "metadata": {},
   "outputs": [
    {
     "name": "stdout",
     "output_type": "stream",
     "text": [
      "X\n"
     ]
    }
   ],
   "source": [
    "board1 = [[None, None, None], [None, \"X\", \"O\"], [None, None, None]]\n",
    "moove1 = (0,2)\n",
    "\n",
    "play1 = player(board1)\n",
    "print(play1)"
   ]
  },
  {
   "cell_type": "code",
   "execution_count": 33,
   "metadata": {},
   "outputs": [],
   "source": [
    "def actions(board):\n",
    "    \"\"\"\n",
    "    Returns set of all possible actions (i, j) available on the board.\n",
    "    \"\"\"\n",
    "    possible_actions = set()\n",
    "    for i in range(len(board)):\n",
    "        for j in range(len(board[i])):\n",
    "            if board[i][j] not in (O,X):\n",
    "                possible_actions.add((i,j))\n",
    "    return(possible_actions)\n",
    "\n",
    "\n"
   ]
  },
  {
   "cell_type": "code",
   "execution_count": 34,
   "metadata": {},
   "outputs": [],
   "source": [
    "def action_is_valid(board,action):\n",
    "    row = action[0]\n",
    "    col = action[1]\n",
    "    if board[row][col] not in (X,O):\n",
    "        return True\n",
    "    else: return False"
   ]
  },
  {
   "cell_type": "code",
   "execution_count": 35,
   "metadata": {},
   "outputs": [],
   "source": [
    "def result(board, action):\n",
    "    \"\"\"\n",
    "    Returns the board that results from making move (i, j) on the board.\n",
    "    \"\"\"\n",
    "    new_board = deepcopy(board)\n",
    "    row = action[0]\n",
    "    col = action[1]\n",
    "    if action_is_valid(board, action):\n",
    "        new_board[row][col] = player(board)\n",
    "        return new_board\n",
    "    else: raise Exception(\"The move is not valid\")"
   ]
  },
  {
   "cell_type": "code",
   "execution_count": 36,
   "metadata": {},
   "outputs": [
    {
     "name": "stdout",
     "output_type": "stream",
     "text": [
      "starting board: [[None, None, None], [None, 'X', 'O'], [None, None, None]]\n",
      "moove: (0, 2)\n",
      "new_board:[[None, None, 'X'], [None, 'X', 'O'], [None, None, None]]\n"
     ]
    }
   ],
   "source": [
    "board_results = result(board1,moove1)\n",
    "print(f\"starting board: {board1}\")\n",
    "print(f\"moove: {moove1}\")\n",
    "print(f\"new_board:{board_results}\")"
   ]
  },
  {
   "cell_type": "code",
   "execution_count": 37,
   "metadata": {},
   "outputs": [],
   "source": [
    "def winner(board):\n",
    "    \"\"\"\n",
    "    Returns the winner of the game, if there is one.\n",
    "    \"\"\"     \n",
    "    # check diagonals\n",
    "    if board[0][0] == board[1][1] == board[2][2]:\n",
    "        return board[0][0]\n",
    "    if board[0][2] == board[1][1] == board[2][0]:\n",
    "        return board[0][2]\n",
    "        \n",
    "    for i in range(len(board)):\n",
    "\n",
    "        # check rows\n",
    "        if board[i][0] == board[i][1] == board[i][2] and board[i][0] is not None:\n",
    "            return board[i][0]   \n",
    "        \n",
    "        # check cols\n",
    "        if board[0][i] == board[1][i] == board[2][i] and board[0][i] is not None:\n",
    "            return board[0][i]\n",
    "    \n",
    "    return None\n",
    "        \n",
    "        \n",
    "        \n",
    "\n",
    "            "
   ]
  },
  {
   "cell_type": "code",
   "execution_count": 38,
   "metadata": {},
   "outputs": [],
   "source": [
    "def terminal(board):\n",
    "    if winner(board) in (X,O):\n",
    "        return True\n",
    "    else: \n",
    "        return all(elem is not None for row in board for elem in row)"
   ]
  },
  {
   "cell_type": "code",
   "execution_count": 39,
   "metadata": {},
   "outputs": [
    {
     "name": "stdout",
     "output_type": "stream",
     "text": [
      "False\n"
     ]
    }
   ],
   "source": [
    "print(terminal(board1))"
   ]
  },
  {
   "cell_type": "code",
   "execution_count": 40,
   "metadata": {},
   "outputs": [],
   "source": [
    "def utility(board):\n",
    "    \"\"\"\n",
    "    Returns 1 if X has won the game, -1 if O has won, 0 otherwise.\n",
    "    \"\"\"\n",
    "    if terminal(board):\n",
    "        if winner(board) == X:\n",
    "            return 1\n",
    "        elif winner(board) == O:\n",
    "            return -1\n",
    "        else: return 0\n",
    "    else: return None"
   ]
  },
  {
   "cell_type": "code",
   "execution_count": 41,
   "metadata": {},
   "outputs": [
    {
     "name": "stdout",
     "output_type": "stream",
     "text": [
      "None\n"
     ]
    }
   ],
   "source": [
    "print(utility(board1))"
   ]
  },
  {
   "cell_type": "code",
   "execution_count": 42,
   "metadata": {},
   "outputs": [],
   "source": [
    "board1 = [[None, \"X\", \"O\"], \n",
    "          [\"O\", \"X\", None], \n",
    "          [\"X\", None, \"O\"]]\n"
   ]
  },
  {
   "cell_type": "code",
   "execution_count": 43,
   "metadata": {},
   "outputs": [
    {
     "name": "stdout",
     "output_type": "stream",
     "text": [
      "(2, 1)\n"
     ]
    }
   ],
   "source": [
    "def minimax(board):\n",
    "    \"\"\"\n",
    "    Returns the optimal action for the current player on the board.\n",
    "    \"\"\"\n",
    "    def max_value(board):\n",
    "        if terminal(board):\n",
    "            return utility(board), None\n",
    "        v = -math.inf\n",
    "        best_action = None\n",
    "        for action in actions(board):\n",
    "            min_val, _ = min_value(result(board, action))\n",
    "            if min_val > v:\n",
    "                v = min_val\n",
    "                best_action = action\n",
    "        return v, best_action\n",
    "\n",
    "    def min_value(board):\n",
    "        if terminal(board):\n",
    "            return utility(board), None\n",
    "        v = math.inf\n",
    "        best_action = None\n",
    "        for action in actions(board):\n",
    "            max_val, _ = max_value(result(board, action))\n",
    "            if max_val < v:\n",
    "                v = max_val\n",
    "                best_action = action\n",
    "        return v, best_action\n",
    "\n",
    "    current_player = player(board)\n",
    "    if current_player == X:\n",
    "        _, best_action = max_value(board)\n",
    "    else:\n",
    "        _, best_action = min_value(board)\n",
    "    \n",
    "    return best_action\n",
    "\n",
    "# Example usage\n",
    "print(minimax(board1))\n",
    "\n",
    "\n",
    "    \n"
   ]
  },
  {
   "cell_type": "code",
   "execution_count": 44,
   "metadata": {},
   "outputs": [],
   "source": [
    "board2 = [[\"O\", None, \"X\"], \n",
    "          [None, None, \"X\"], \n",
    "          [\"O\", None, \"X\"]]"
   ]
  },
  {
   "cell_type": "code",
   "execution_count": 45,
   "metadata": {},
   "outputs": [
    {
     "name": "stdout",
     "output_type": "stream",
     "text": [
      "1\n"
     ]
    }
   ],
   "source": [
    "# Example usage\n",
    "print(utility(board2))"
   ]
  }
 ],
 "metadata": {
  "kernelspec": {
   "display_name": "Python 3",
   "language": "python",
   "name": "python3"
  },
  "language_info": {
   "codemirror_mode": {
    "name": "ipython",
    "version": 3
   },
   "file_extension": ".py",
   "mimetype": "text/x-python",
   "name": "python",
   "nbconvert_exporter": "python",
   "pygments_lexer": "ipython3",
   "version": "3.12.2"
  }
 },
 "nbformat": 4,
 "nbformat_minor": 2
}
